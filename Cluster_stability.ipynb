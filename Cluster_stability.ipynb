{
 "cells": [
  {
   "cell_type": "code",
   "execution_count": 1,
   "metadata": {},
   "outputs": [
    {
     "name": "stderr",
     "output_type": "stream",
     "text": [
      "Using TensorFlow backend.\n"
     ]
    }
   ],
   "source": [
    "#ENVIRONMENT\n",
    "import os\n",
    "import tensorflow as tf\n",
    "import keras\n",
    "from tensorflow.keras.preprocessing import image\n",
    "from tensorflow.keras.applications.imagenet_utils import decode_predictions, preprocess_input\n",
    "from tensorflow.keras.models import Model\n",
    "import numpy as np\n",
    "import matplotlib.pyplot as plt\n",
    "\n",
    "import random\n",
    "import json\n",
    "import pickle\n",
    "from PIL import Image\n",
    "from IPython.display import display\n",
    "from sklearn.manifold import TSNE\n",
    "from scipy.spatial import distance\n",
    "import pandas as pd\n",
    "import hdbscan\n",
    "from sklearn.decomposition import PCA\n",
    "from sklearn.cluster import KMeans\n",
    "from random import choices\n",
    "from sklearn.metrics.cluster import contingency_matrix"
   ]
  },
  {
   "cell_type": "code",
   "execution_count": 265,
   "metadata": {},
   "outputs": [
    {
     "name": "stdout",
     "output_type": "stream",
     "text": [
      "Creating dataset from the files in: /media/s/DATA/Downloads/bigserene-sulimon-master/2019-07-10/images/\n",
      "- Data loaded from cache-file: /media/s/DATA/Downloads/bigserene-sulimon-master/2019-07-10/images/my_dataset_cache.pkl\n"
     ]
    }
   ],
   "source": [
    "#DEFINITIONS\n",
    "archs = {\n",
    "    'VGG16',\n",
    "    'Xception',\n",
    "    'ResNet34'\n",
    "}\n",
    "arch = 'VGG16'#keras, \n",
    "def load_image(path, arch):\n",
    "    img = image.load_img(path) if arch=='Xception' else image.load_img(path, target_size=model.input_shape[1:3])\n",
    "    #img = image.load_img(path, target_size=model.input_shape[1:3]) #VGG16, Resnet\n",
    "    #img = image.load_img(path) #XCeption\n",
    "    x = image.img_to_array(img)\n",
    "    x = np.expand_dims(x, axis=0)\n",
    "    x = preprocess_input(x)\n",
    "    return img, x\n",
    "PATH = '/media/s/DATA/Downloads/bigserene-sulimon-master/2019-07-10/images/'\n",
    "tPATH = '/media/s/DATA/Downloads/bigserene-sulimon-master/2019-07-10/images/'\n",
    "# This is the code you would run to load your own image-files.\n",
    "# It has been commented out so it won't run now.\n",
    "\n",
    "from dataset import load_cached\n",
    "dataset = load_cached(cache_path=f'{PATH}my_dataset_cache.pkl', in_dir=f'{PATH}')\n",
    "num_classes = dataset.num_classes\n",
    "images = list(dataset.get_paths())\n",
    "cls = dataset.class_numbers\n",
    "brands = dataset.class_names\n",
    "def get_VGG16():\n",
    "    model = tf.keras.applications.VGG16(weights='imagenet')\n",
    "    feat_extractor = Model(inputs=model.input, outputs=model.get_layer(\"fc2\").output)\n",
    "    return model, feat_extractor\n",
    "def get_Xception():\n",
    "    model = tf.keras.applications.Xception(weights='imagenet')\n",
    "    feat_extractor = Model(inputs=model.input, outputs=model.get_layer(\"avg_pool\").output)\n",
    "    return model,feat_extractor\n",
    "def get_ResNet50():\n",
    "    model = tf.keras.applications.ResNet50(weights='imagenet')\n",
    "    feat_extractor = Model(inputs=model.input, outputs=model.get_layer(\"avg_pool\").output)\n",
    "    return model, feat_extractor\n",
    "def getModel(x):\n",
    "    return{\n",
    "        'VGG16': get_VGG16(),\n",
    "        'Xception':get_Xception(),\n",
    "        'ResNet50':get_ResNet50()\n",
    "    }.get(x,'VGG16')\n",
    "\n",
    "#Function to plot an embedding along with the clustering\n",
    "def plot_clustered_embedding(embedding,classes):\n",
    "     plt.scatter(embedding[:,0],embedding[:,1], c=classes, s=.1, cmap='nipy_spectral')\n",
    "\n",
    "#Maps one clustering to another. \n",
    "#Input: Two different clusterings of the same data.\n",
    "#Output: The second clustering only using the corresponding labels from the first one\n",
    "#The first clustering true_labels is treated as the true clustering, and labeling2 is converted to the label\n",
    "#indices in true_labels\n",
    "#Uses the contingency matrix method, i.e. if a high percentage of images in cluster 3 from the first clustering\n",
    "#fall into cluster 7 in the second clustering, then replace all 7's in the second clustering with 3's.\n",
    "def map_clustering(true_labels,labeling2):\n",
    "    cont=contingency_matrix(true_labels,labeling2)\n",
    "    max_conts=np.amax(cont,1)\n",
    "    true_cluster=np.array(max_conts)\n",
    "    for i in range(0,len(max_conts)):\n",
    "        curr_true=np.argwhere(cont[i]==max_conts[i])\n",
    "        true_cluster[i]=curr_true if len(curr_true)<=1 else np.min(curr_true)\n",
    "        new_labels=np.array(labeling2)\n",
    "    for j in range(0,len(labeling2)):\n",
    "        curr_label=np.argwhere(true_cluster==labeling2[j])\n",
    "        if len(curr_label)>=1:\n",
    "            new_labels[j]=np.min(curr_label)\n",
    "        else:\n",
    "            new_labels[j]=-1\n",
    "    return new_labels\n",
    "\n",
    "#Compute the F1 score of the clusters. Each cluster has one F1 score. If the cluster is not detected with the\n",
    "#second clustering, the F1 score for that cluster is 0. The return value is the mean F1 score for all clusters\n",
    "#This can be instead weighted by cluster size if the larger clusters are more important to be robust\n",
    "def clustering_f1_score(clustering_s,new_labels):\n",
    "    new_cont=contingency_matrix(clustering_s,new_labels)\n",
    "    F1=np.zeros([max(clustering_s)+1])\n",
    "    for i in range(0,min(np.shape((new_cont)))):\n",
    "        TP=new_cont[i,i]\n",
    "        P = np.sum(clustering_s==i)\n",
    "        F = np.sum(clustering_s!=i)\n",
    "        FP = np.sum(new_cont[:,i])-TP\n",
    "        FN=P-TP\n",
    "        precision=TP/(TP+FP)\n",
    "        recall=TP/(TP+FN)\n",
    "        if precision >0 and recall > 0:\n",
    "            curr_F1=2*precision*recall/(precision+recall)\n",
    "        else:\n",
    "            curr_F1=0\n",
    "        \n",
    "        F1[i]=curr_F1 if not np.isnan(curr_F1) else 0\n",
    "    return np.mean(F1)\n",
    "\n",
    "#Validates a clusterer using the above functions. The steps are as follows:\n",
    "#Compute the clustering for all data, treat this as the \"true\" clustering\n",
    "#For each subset of the data, predict which cluster it would fall in with the true clustering,\n",
    "#Then, compute a clustering on the subset itself. Calculate how well the subset clustering corresponds to the \n",
    "#\"true\" clustering by computing F1 score\n",
    "def validate_cluster_method(clusterer,feature_set,subset_size,num_subsets):\n",
    "    true_clustering =clusterer.fit(feature_set)\n",
    "    mean_F1=np.empty(num_subsets)\n",
    "    for i in range(0,num_subsets):\n",
    "        subset=choices(feature_set,k=subset_size)\n",
    "        true_clustering_s=true_clustering.predict(subset)\n",
    "        clustering_s = clusterer.fit(subset)\n",
    "        new_labels = map_clustering(true_clustering_s,clustering_s.labels_)\n",
    "        mean_F1[i]=clustering_f1_score(true_clustering_s,new_labels)\n",
    "    return mean_F1"
   ]
  },
  {
   "cell_type": "code",
   "execution_count": 3,
   "metadata": {},
   "outputs": [],
   "source": [
    "model, feat_extractor = getModel(arch)"
   ]
  },
  {
   "cell_type": "code",
   "execution_count": 4,
   "metadata": {},
   "outputs": [
    {
     "name": "stderr",
     "output_type": "stream",
     "text": [
     ]
    },
    {
     "name": "stdout",
     "output_type": "stream",
     "text": [
      "analyzing image 0 / 12058. Time: 0.0002 seconds.\n",
      "analyzing image 50 / 12058. Time: 2.0981 seconds.\n",
      "analyzing image 100 / 12058. Time: 0.8413 seconds.\n",
      "analyzing image 150 / 12058. Time: 0.8359 seconds.\n",
      "analyzing image 200 / 12058. Time: 0.8548 seconds.\n",
      "analyzing image 250 / 12058. Time: 0.9004 seconds.\n",
      "analyzing image 300 / 12058. Time: 0.9663 seconds.\n",
      "analyzing image 350 / 12058. Time: 0.9513 seconds.\n",
      "analyzing image 400 / 12058. Time: 1.0182 seconds.\n",
      "analyzing image 450 / 12058. Time: 0.9372 seconds.\n",
      "analyzing image 500 / 12058. Time: 0.9906 seconds.\n",
      "analyzing image 550 / 12058. Time: 1.0439 seconds.\n",
      "analyzing image 600 / 12058. Time: 1.0479 seconds.\n",
      "analyzing image 650 / 12058. Time: 1.0453 seconds.\n",
      "analyzing image 700 / 12058. Time: 1.0498 seconds.\n",
      "analyzing image 750 / 12058. Time: 0.9918 seconds.\n",
      "analyzing image 800 / 12058. Time: 1.0124 seconds.\n",
      "analyzing image 850 / 12058. Time: 0.9789 seconds.\n",
      "analyzing image 900 / 12058. Time: 1.0248 seconds.\n",
      "analyzing image 950 / 12058. Time: 1.0243 seconds.\n",
      "analyzing image 1000 / 12058. Time: 1.0873 seconds.\n",
      "analyzing image 1050 / 12058. Time: 1.0685 seconds.\n",
      "analyzing image 1100 / 12058. Time: 1.1049 seconds.\n",
      "analyzing image 1150 / 12058. Time: 1.0496 seconds.\n",
      "analyzing image 1200 / 12058. Time: 1.0562 seconds.\n",
      "analyzing image 1250 / 12058. Time: 1.0844 seconds.\n",
      "analyzing image 1300 / 12058. Time: 1.1163 seconds.\n",
      "analyzing image 1350 / 12058. Time: 1.0735 seconds.\n",
      "analyzing image 1400 / 12058. Time: 1.1063 seconds.\n",
      "analyzing image 1450 / 12058. Time: 1.1424 seconds.\n",
      "analyzing image 1500 / 12058. Time: 1.1514 seconds.\n",
      "analyzing image 1550 / 12058. Time: 1.1309 seconds.\n",
      "analyzing image 1600 / 12058. Time: 1.1258 seconds.\n",
      "analyzing image 1650 / 12058. Time: 1.2139 seconds.\n",
      "analyzing image 1700 / 12058. Time: 1.1392 seconds.\n",
      "analyzing image 1750 / 12058. Time: 1.0667 seconds.\n",
      "analyzing image 1800 / 12058. Time: 1.1859 seconds.\n",
      "analyzing image 1850 / 12058. Time: 1.1547 seconds.\n",
      "analyzing image 1900 / 12058. Time: 1.2660 seconds.\n",
      "analyzing image 1950 / 12058. Time: 1.1758 seconds.\n",
      "analyzing image 2000 / 12058. Time: 1.2205 seconds.\n",
      "analyzing image 2050 / 12058. Time: 1.2285 seconds.\n",
      "analyzing image 2100 / 12058. Time: 1.2050 seconds.\n",
      "analyzing image 2150 / 12058. Time: 1.2773 seconds.\n",
      "analyzing image 2200 / 12058. Time: 1.2174 seconds.\n",
      "analyzing image 2250 / 12058. Time: 1.2515 seconds.\n",
      "analyzing image 2300 / 12058. Time: 1.2391 seconds.\n",
      "analyzing image 2350 / 12058. Time: 1.1837 seconds.\n",
      "analyzing image 2400 / 12058. Time: 1.1830 seconds.\n",
      "analyzing image 2450 / 12058. Time: 1.1734 seconds.\n",
      "analyzing image 2500 / 12058. Time: 1.2272 seconds.\n",
      "analyzing image 2550 / 12058. Time: 1.2900 seconds.\n",
      "analyzing image 2600 / 12058. Time: 1.3371 seconds.\n",
      "analyzing image 2650 / 12058. Time: 1.3846 seconds.\n",
      "analyzing image 2700 / 12058. Time: 1.4625 seconds.\n",
      "analyzing image 2750 / 12058. Time: 0.9834 seconds.\n",
      "analyzing image 2800 / 12058. Time: 0.9429 seconds.\n",
      "analyzing image 2850 / 12058. Time: 0.9630 seconds.\n",
      "analyzing image 2900 / 12058. Time: 1.0143 seconds.\n",
      "analyzing image 2950 / 12058. Time: 0.9749 seconds.\n",
      "analyzing image 3000 / 12058. Time: 1.0071 seconds.\n",
      "analyzing image 3050 / 12058. Time: 0.9980 seconds.\n",
      "analyzing image 3100 / 12058. Time: 1.0318 seconds.\n",
      "analyzing image 3150 / 12058. Time: 1.0279 seconds.\n",
      "analyzing image 3200 / 12058. Time: 1.0689 seconds.\n",
      "analyzing image 3250 / 12058. Time: 1.0683 seconds.\n",
      "analyzing image 3300 / 12058. Time: 1.1114 seconds.\n",
      "analyzing image 3350 / 12058. Time: 1.1133 seconds.\n",
      "analyzing image 3400 / 12058. Time: 1.1752 seconds.\n",
      "analyzing image 3450 / 12058. Time: 1.2622 seconds.\n",
      "analyzing image 3500 / 12058. Time: 1.1992 seconds.\n",
      "analyzing image 3550 / 12058. Time: 1.1388 seconds.\n",
      "analyzing image 3600 / 12058. Time: 1.1137 seconds.\n",
      "analyzing image 3650 / 12058. Time: 1.0945 seconds.\n",
      "analyzing image 3700 / 12058. Time: 1.1545 seconds.\n",
      "analyzing image 3750 / 12058. Time: 1.1408 seconds.\n",
      "analyzing image 3800 / 12058. Time: 1.1243 seconds.\n",
      "analyzing image 3850 / 12058. Time: 1.1843 seconds.\n",
      "analyzing image 3900 / 12058. Time: 1.2890 seconds.\n",
      "analyzing image 3950 / 12058. Time: 1.1897 seconds.\n",
      "analyzing image 4000 / 12058. Time: 1.2170 seconds.\n",
      "analyzing image 4050 / 12058. Time: 1.1223 seconds.\n",
      "analyzing image 4100 / 12058. Time: 1.1799 seconds.\n",
      "analyzing image 4150 / 12058. Time: 1.2014 seconds.\n",
      "analyzing image 4200 / 12058. Time: 1.1939 seconds.\n",
      "analyzing image 4250 / 12058. Time: 1.2025 seconds.\n",
      "analyzing image 4300 / 12058. Time: 1.1440 seconds.\n",
      "analyzing image 4350 / 12058. Time: 1.1617 seconds.\n",
      "analyzing image 4400 / 12058. Time: 1.1492 seconds.\n",
      "analyzing image 4450 / 12058. Time: 1.1402 seconds.\n",
      "analyzing image 4500 / 12058. Time: 1.1187 seconds.\n",
      "analyzing image 4550 / 12058. Time: 1.1350 seconds.\n",
      "analyzing image 4600 / 12058. Time: 1.1377 seconds.\n",
      "analyzing image 4650 / 12058. Time: 1.1264 seconds.\n",
      "analyzing image 4700 / 12058. Time: 1.1404 seconds.\n",
      "analyzing image 4750 / 12058. Time: 1.1431 seconds.\n",
      "analyzing image 4800 / 12058. Time: 1.5005 seconds.\n",
      "analyzing image 4850 / 12058. Time: 1.5639 seconds.\n",
      "analyzing image 4900 / 12058. Time: 1.2025 seconds.\n",
      "analyzing image 4950 / 12058. Time: 0.9590 seconds.\n",
      "analyzing image 5000 / 12058. Time: 0.8661 seconds.\n",
      "analyzing image 5050 / 12058. Time: 0.8720 seconds.\n",
      "analyzing image 5100 / 12058. Time: 0.8750 seconds.\n",
      "analyzing image 5150 / 12058. Time: 0.9507 seconds.\n",
      "analyzing image 5200 / 12058. Time: 1.0308 seconds.\n",
      "analyzing image 5250 / 12058. Time: 1.0524 seconds.\n",
      "analyzing image 5300 / 12058. Time: 1.0707 seconds.\n",
      "analyzing image 5350 / 12058. Time: 1.0876 seconds.\n",
      "analyzing image 5400 / 12058. Time: 1.1436 seconds.\n",
      "analyzing image 5450 / 12058. Time: 1.1470 seconds.\n",
      "analyzing image 5500 / 12058. Time: 1.1266 seconds.\n",
      "analyzing image 5550 / 12058. Time: 1.0798 seconds.\n",
      "analyzing image 5600 / 12058. Time: 1.0940 seconds.\n",
      "analyzing image 5650 / 12058. Time: 1.1190 seconds.\n",
      "analyzing image 5700 / 12058. Time: 1.1948 seconds.\n",
      "analyzing image 5750 / 12058. Time: 1.2097 seconds.\n",
      "analyzing image 5800 / 12058. Time: 1.0840 seconds.\n",
      "analyzing image 5850 / 12058. Time: 1.1050 seconds.\n",
      "analyzing image 5900 / 12058. Time: 1.0986 seconds.\n",
      "analyzing image 5950 / 12058. Time: 1.2017 seconds.\n",
      "analyzing image 6000 / 12058. Time: 1.0068 seconds.\n",
      "analyzing image 6050 / 12058. Time: 0.8962 seconds.\n",
      "analyzing image 6100 / 12058. Time: 0.7952 seconds.\n",
      "analyzing image 6150 / 12058. Time: 0.7820 seconds.\n",
      "analyzing image 6200 / 12058. Time: 0.8127 seconds.\n",
      "analyzing image 6250 / 12058. Time: 0.7945 seconds.\n",
      "analyzing image 6300 / 12058. Time: 0.8880 seconds.\n",
      "analyzing image 6350 / 12058. Time: 0.8919 seconds.\n",
      "analyzing image 6400 / 12058. Time: 0.9054 seconds.\n",
      "analyzing image 6450 / 12058. Time: 0.8364 seconds.\n",
      "analyzing image 6500 / 12058. Time: 0.7856 seconds.\n",
      "analyzing image 6550 / 12058. Time: 0.8540 seconds.\n",
      "analyzing image 6600 / 12058. Time: 0.9210 seconds.\n",
      "analyzing image 6650 / 12058. Time: 0.9476 seconds.\n",
      "analyzing image 6700 / 12058. Time: 0.9018 seconds.\n",
      "analyzing image 6750 / 12058. Time: 0.9254 seconds.\n",
      "analyzing image 6800 / 12058. Time: 0.8947 seconds.\n",
      "analyzing image 6850 / 12058. Time: 0.9091 seconds.\n",
      "analyzing image 6900 / 12058. Time: 0.9276 seconds.\n",
      "analyzing image 6950 / 12058. Time: 0.9113 seconds.\n",
      "analyzing image 7000 / 12058. Time: 0.9253 seconds.\n",
      "analyzing image 7050 / 12058. Time: 0.9568 seconds.\n",
      "analyzing image 7100 / 12058. Time: 1.1486 seconds.\n",
      "analyzing image 7150 / 12058. Time: 1.0801 seconds.\n",
      "analyzing image 7200 / 12058. Time: 1.0734 seconds.\n",
      "analyzing image 7250 / 12058. Time: 1.1007 seconds.\n",
      "analyzing image 7300 / 12058. Time: 1.1022 seconds.\n",
      "analyzing image 7350 / 12058. Time: 1.1313 seconds.\n",
      "analyzing image 7400 / 12058. Time: 1.1124 seconds.\n",
      "analyzing image 7450 / 12058. Time: 1.1310 seconds.\n",
      "analyzing image 7500 / 12058. Time: 1.0727 seconds.\n",
      "analyzing image 7550 / 12058. Time: 1.1637 seconds.\n",
      "analyzing image 7600 / 12058. Time: 1.0509 seconds.\n",
      "analyzing image 7650 / 12058. Time: 1.0741 seconds.\n",
      "analyzing image 7700 / 12058. Time: 1.1233 seconds.\n",
      "analyzing image 7750 / 12058. Time: 1.0990 seconds.\n",
      "analyzing image 7800 / 12058. Time: 1.0502 seconds.\n",
      "analyzing image 7850 / 12058. Time: 1.1081 seconds.\n"
     ]
    },
    {
     "name": "stdout",
     "output_type": "stream",
     "text": [
      "analyzing image 7900 / 12058. Time: 1.1683 seconds.\n",
      "analyzing image 7950 / 12058. Time: 1.1430 seconds.\n",
      "analyzing image 8000 / 12058. Time: 1.1596 seconds.\n",
      "analyzing image 8050 / 12058. Time: 1.2135 seconds.\n",
      "analyzing image 8100 / 12058. Time: 1.1944 seconds.\n",
      "analyzing image 8150 / 12058. Time: 1.1512 seconds.\n",
      "analyzing image 8200 / 12058. Time: 1.1906 seconds.\n",
      "analyzing image 8250 / 12058. Time: 1.1671 seconds.\n",
      "analyzing image 8300 / 12058. Time: 1.1900 seconds.\n",
      "analyzing image 8350 / 12058. Time: 1.1433 seconds.\n",
      "analyzing image 8400 / 12058. Time: 1.1611 seconds.\n",
      "analyzing image 8450 / 12058. Time: 1.1820 seconds.\n",
      "analyzing image 8500 / 12058. Time: 1.0575 seconds.\n",
      "analyzing image 8550 / 12058. Time: 1.1578 seconds.\n",
      "analyzing image 8600 / 12058. Time: 1.1701 seconds.\n",
      "analyzing image 8650 / 12058. Time: 1.2424 seconds.\n",
      "analyzing image 8700 / 12058. Time: 1.1721 seconds.\n",
      "analyzing image 8750 / 12058. Time: 1.1500 seconds.\n",
      "analyzing image 8800 / 12058. Time: 1.2196 seconds.\n",
      "analyzing image 8850 / 12058. Time: 1.2362 seconds.\n",
      "analyzing image 8900 / 12058. Time: 1.2390 seconds.\n",
      "analyzing image 8950 / 12058. Time: 1.2001 seconds.\n",
      "analyzing image 9000 / 12058. Time: 1.2624 seconds.\n",
      "analyzing image 9050 / 12058. Time: 1.2568 seconds.\n",
      "analyzing image 9100 / 12058. Time: 1.2874 seconds.\n",
      "analyzing image 9150 / 12058. Time: 1.3445 seconds.\n",
      "analyzing image 9200 / 12058. Time: 1.3501 seconds.\n",
      "analyzing image 9250 / 12058. Time: 1.3590 seconds.\n",
      "analyzing image 9300 / 12058. Time: 1.2814 seconds.\n",
      "analyzing image 9350 / 12058. Time: 0.9148 seconds.\n",
      "analyzing image 9400 / 12058. Time: 0.9301 seconds.\n",
      "analyzing image 9450 / 12058. Time: 0.8696 seconds.\n",
      "analyzing image 9500 / 12058. Time: 0.9537 seconds.\n",
      "analyzing image 9550 / 12058. Time: 0.9554 seconds.\n",
      "analyzing image 9600 / 12058. Time: 1.0018 seconds.\n",
      "analyzing image 9650 / 12058. Time: 1.0040 seconds.\n",
      "analyzing image 9700 / 12058. Time: 0.9973 seconds.\n",
      "analyzing image 9750 / 12058. Time: 0.9614 seconds.\n",
      "analyzing image 9800 / 12058. Time: 1.0205 seconds.\n",
      "analyzing image 9850 / 12058. Time: 1.0193 seconds.\n",
      "analyzing image 9900 / 12058. Time: 1.0106 seconds.\n",
      "analyzing image 9950 / 12058. Time: 1.0399 seconds.\n",
      "analyzing image 10000 / 12058. Time: 1.0291 seconds.\n",
      "analyzing image 10050 / 12058. Time: 1.0079 seconds.\n",
      "analyzing image 10100 / 12058. Time: 1.0356 seconds.\n",
      "analyzing image 10150 / 12058. Time: 1.0257 seconds.\n",
      "analyzing image 10200 / 12058. Time: 1.0485 seconds.\n",
      "analyzing image 10250 / 12058. Time: 1.0382 seconds.\n",
      "analyzing image 10300 / 12058. Time: 1.0350 seconds.\n",
      "analyzing image 10350 / 12058. Time: 1.0557 seconds.\n",
      "analyzing image 10400 / 12058. Time: 1.0486 seconds.\n",
      "analyzing image 10450 / 12058. Time: 1.0198 seconds.\n",
      "analyzing image 10500 / 12058. Time: 1.0096 seconds.\n",
      "analyzing image 10550 / 12058. Time: 1.0538 seconds.\n",
      "analyzing image 10600 / 12058. Time: 1.0111 seconds.\n",
      "analyzing image 10650 / 12058. Time: 1.0087 seconds.\n",
      "analyzing image 10700 / 12058. Time: 0.9938 seconds.\n",
      "analyzing image 10750 / 12058. Time: 1.0105 seconds.\n",
      "analyzing image 10800 / 12058. Time: 0.9967 seconds.\n",
      "analyzing image 10850 / 12058. Time: 0.9796 seconds.\n",
      "analyzing image 10900 / 12058. Time: 0.9896 seconds.\n",
      "analyzing image 10950 / 12058. Time: 0.9962 seconds.\n",
      "analyzing image 11000 / 12058. Time: 1.0769 seconds.\n",
      "analyzing image 11050 / 12058. Time: 1.1308 seconds.\n",
      "analyzing image 11100 / 12058. Time: 1.1347 seconds.\n",
      "analyzing image 11150 / 12058. Time: 1.2242 seconds.\n",
      "analyzing image 11200 / 12058. Time: 0.9072 seconds.\n",
      "analyzing image 11250 / 12058. Time: 0.9423 seconds.\n",
      "analyzing image 11300 / 12058. Time: 0.8492 seconds.\n",
      "analyzing image 11350 / 12058. Time: 0.9616 seconds.\n",
      "analyzing image 11400 / 12058. Time: 0.9539 seconds.\n",
      "analyzing image 11450 / 12058. Time: 0.9860 seconds.\n",
      "analyzing image 11500 / 12058. Time: 1.0291 seconds.\n",
      "analyzing image 11550 / 12058. Time: 0.9923 seconds.\n",
      "analyzing image 11600 / 12058. Time: 0.9693 seconds.\n",
      "analyzing image 11650 / 12058. Time: 1.0126 seconds.\n",
      "analyzing image 11700 / 12058. Time: 1.0343 seconds.\n",
      "analyzing image 11750 / 12058. Time: 1.0077 seconds.\n",
      "analyzing image 11800 / 12058. Time: 1.0551 seconds.\n",
      "analyzing image 11850 / 12058. Time: 1.0239 seconds.\n",
      "analyzing image 11900 / 12058. Time: 1.0123 seconds.\n",
      "analyzing image 11950 / 12058. Time: 1.0290 seconds.\n",
      "analyzing image 12000 / 12058. Time: 1.0230 seconds.\n",
      "analyzing image 12050 / 12058. Time: 1.0363 seconds.\n",
      "finished extracting features for 12058 images\n"
     ]
    }
   ],
   "source": [
    "#Extract features from images\n",
    "import time\n",
    "tic = time.clock()\n",
    "\n",
    "\n",
    "features = []\n",
    "for i, image_path in enumerate(images):\n",
    "    if i % 50 == 0:\n",
    "        toc = time.clock()\n",
    "        elap = toc-tic;\n",
    "        print(\"analyzing image %d / %d. Time: %4.4f seconds.\" % (i, len(images),elap))\n",
    "        tic = time.clock()\n",
    "    img, x = load_image(image_path, arch);\n",
    "    feat = feat_extractor.predict(x, batch_size=64)[0]\n",
    "    features.append(feat)\n",
    "\n",
    "print('finished extracting features for %d images' % len(images))"
   ]
  },
  {
   "cell_type": "code",
   "execution_count": 246,
   "metadata": {},
   "outputs": [
    {
     "data": {
      "text/plain": [
       "(12058, 4)"
      ]
     },
     "execution_count": 246,
     "metadata": {},
     "output_type": "execute_result"
    }
   ],
   "source": [
    "#The full data set is a bit high dimensional, so I'm reducing to the for most 'important' features based on \n",
    "#feature variance\n",
    "#Later I can apply much more advanced data mining / feature engineering to find the most important features or \n",
    "#combinations of features for clustering\n",
    "features=np.array(features)\n",
    "variances=features.var(0)\n",
    "feature_set=np.squeeze(features[:,np.argwhere(variances>6)])\n",
    "np.shape(feature_set)\n",
    "\n",
    "\n",
    "#     2) use contingency matrix to map which clusters go to which\n",
    "#    \n"
   ]
  },
  {
   "cell_type": "code",
   "execution_count": 254,
   "metadata": {},
   "outputs": [
    {
     "name": "stderr",
     "output_type": "stream",
     "text": [
           ]
    }
   ],
   "source": [
    "#First try Kmeans with only 3 clusters on the important features chosen above. Compute the mean_F1 defined above\n",
    "#over 3 clusters for 100 subsets of size 1000\n",
    "clusterer= KMeans(n_clusters=3, random_state=0)\n",
    "num_subsets=100\n",
    "subset_size=1000\n",
    "mean_F1_5=validate_cluster_method(clusterer,feature_set,subset_size,num_subsets)\n",
    "\n",
    "#Next try the same scoring for 20 clusters\n",
    "clusterer= KMeans(n_clusters=20, random_state=0)\n",
    "num_subsets=100\n",
    "subset_size=1000\n",
    "mean_F1_20=validate_cluster_method(clusterer,feature_set,subset_size,num_subsets)\n",
    "#toc = time.clock()\n",
    "#elap = toc-tic;\n"
   ]
  },
  {
   "cell_type": "code",
   "execution_count": 258,
   "metadata": {},
   "outputs": [
    {
     "data": {
      "image/png": "[encoded data removed]",
      "text/plain": [
       "<Figure size 432x288 with 1 Axes>"
      ]
     },
     "metadata": {
      "needs_background": "light"
     },
     "output_type": "display_data"
    }
   ],
   "source": [
    "#Plot the result. The 5 clusters provides a much more stable clustering in that the F1 score is higher. \n",
    "#This means that the clusterings on subsets correspond well with clustering on the full data\n",
    "plt.hist(mean_F1_5)\n",
    "plt.hist(mean_F1_20)\n",
    "plt.legend(('Stable Clustering','Not so Stable clustering'))\n",
    "plt.xlabel('F1 score for subset')\n",
    "plt.ylabel('frequency')\n",
    "plt.show()"
   ]
  },
  {
   "cell_type": "code",
   "execution_count": 264,
   "metadata": {},
   "outputs": [
    {
     "name": "stderr",
     "output_type": "stream",
     "text": [
      
     ]
    },
    {
     "name": "stderr",
     "output_type": "stream",
     "text": [
     
     ]
    },
    {
     "name": "stderr",
     "output_type": "stream",
     "text": [
     
     ]
    },
    {
     "name": "stderr",
     "output_type": "stream",
     "text": [
      
     ]
    },
    {
     "name": "stderr",
     "output_type": "stream",
     "text": [
      
     ]
    },
    {
     "name": "stderr",
     "output_type": "stream",
     "text": [
      
     ]
    },
    {
     "name": "stderr",
     "output_type": "stream",
     "text": [
     
     ]
    },
    {
     "name": "stderr",
     "output_type": "stream",
     "text": [
     
     ]
    },
    {
     "name": "stderr",
     "output_type": "stream",
     "text": [
      
     ]
    },
    {
     "name": "stderr",
     "output_type": "stream",
     "text": [
      
     ]
    },
    {
     "name": "stderr",
     "output_type": "stream",
     "text": [
      
     ]
    }
   ],
   "source": [
    "#Now use this techinque to find the \"best\" number of clusters parameter for Kmeans\n",
    "#We can use this metric to search clustering methods and parameters to find the most \"robust\" clusterings\n",
    "\n",
    "num_subsets=100\n",
    "subset_size=1000\n",
    "max_num_clust=50\n",
    "min_num_clust=2\n",
    "all_mean=np.empty(max_num_clust)\n",
    "for i in range(min_num_clust,max_num_clust):\n",
    "    clusterer=KMeans(n_clusters=i, random_state=0)\n",
    "    mean_F1=validate_cluster_method(clusterer,feature_set,subset_size,num_subsets)\n",
    "#toc = time.clock()\n",
    "#elap = toc-tic;\n",
    "    all_mean[i]=np.mean(mean_F1)\n"
   ]
  },
  {
   "cell_type": "code",
   "execution_count": 266,
   "metadata": {},
   "outputs": [
    {
     "data": {
      "text/plain": [
       "Text(0, 0.5, 'mean F1 score')"
      ]
     },
     "execution_count": 266,
     "metadata": {},
     "output_type": "execute_result"
    },
    {
     "data": {
      "image/png": "[encoded data removed]",
      "text/plain": [
       "<Figure size 432x288 with 1 Axes>"
      ]
     },
     "metadata": {
      "needs_background": "light"
     },
     "output_type": "display_data"
    }
   ],
   "source": [
    "#The result: Fewer clusters results in more robust clusters, which may be expected for kmeans. The \n",
    "#idea is to apply this metric to other clustering algorithms over different parameter sets. See notes below\n",
    "\n",
    "plt.plot(range(min_num_clust,max_num_clust),all_mean[min_num_clust:max_num_clust])\n",
    "plt.xlabel('number of clusters in kmeans')\n",
    "plt.ylabel('mean F1 score')\n"
   ]
  },
  {
   "cell_type": "code",
   "execution_count": null,
   "metadata": {},
   "outputs": [],
   "source": [
    "#We can discuss and define other metrics that are desirable for the clusterings since Stability is\n",
    "#not the only thing we desire in clusterings. \n",
    "#I would suggest defining 2 or more metrics, this F1 score (i.e.\"stability\") being one of them\n",
    "#After we define metrics, we can do a Bayesian search over all parameter ranges for many clustering algorithms\n",
    "#To find the most desirable clustering by optimizing our metrics"
   ]
  }
 ],
 "metadata": {
  "kernelspec": {
   "display_name": "Python 3",
   "language": "python",
   "name": "python3"
  },
  "language_info": {
   "codemirror_mode": {
    "name": "ipython",
    "version": 3
   },
   "file_extension": ".py",
   "mimetype": "text/x-python",
   "name": "python",
   "nbconvert_exporter": "python",
   "pygments_lexer": "ipython3",
   "version": "3.7.3"
  }
 },
 "nbformat": 4,
 "nbformat_minor": 2
}
